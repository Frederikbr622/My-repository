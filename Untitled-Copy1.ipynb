{
 "cells": [
  {
   "cell_type": "markdown",
   "metadata": {},
   "source": [
    "Inaugural project"
   ]
  },
  {
   "cell_type": "markdown",
   "metadata": {},
   "source": [
    "Question 1:"
   ]
  },
  {
   "cell_type": "code",
   "execution_count": 182,
   "metadata": {},
   "outputs": [],
   "source": [
    "# Defining a dictionary with our parameters\n",
    "par_dict = {'phi' : 0.3,\n",
    "           'epsilon' : 0.5,\n",
    "           'r' : 0.03,\n",
    "           'taug' : 0.012,\n",
    "           'taup' : 0.004,\n",
    "           'pbar' : 3}\n",
    "\n",
    "\n",
    "# Creating our function\n",
    "def u(c, h, par_dict):\n",
    "    return (c**(1-par_dict['phi']))*(h**par_dict['phi'])\n",
    "\n",
    "# Defining the constraints (Applying h = ph)\n",
    "\n",
    "#Equation 2:\n",
    "def public_assessment(h,par_dict):\n",
    "    return h*par_dict['epsilon']\n",
    "\n",
    "#Equation 4:\n",
    "def housing_cost (h, public_assessment, par_dict):\n",
    "    return par_dict['r'] * h + par_dict['taug'] * public_assessment(h,par_dict) + par_dict['taup'] * max(public_assessment(h,par_dict)-par_dict['pbar'],0)\n",
    "\n",
    "#Equation 3:\n",
    "def c (h, housing_cost, par_dict, m):\n",
    "    return m-housing_cost(h, public_assessment, par_dict)\n",
    "\n",
    "def f(h, par_dict, m):\n",
    "    return -u(c(h, housing_cost, par_dict, m), h, par_dict)"
   ]
  },
  {
   "cell_type": "code",
   "execution_count": 183,
   "metadata": {},
   "outputs": [
    {
     "data": {
      "text/plain": [
       "(4.166687500000005, 0.34999924999999976, 0.7358414678022152)"
      ]
     },
     "execution_count": 183,
     "metadata": {},
     "output_type": "execute_result"
    }
   ],
   "source": [
    "# Optimizing through scipy optimize\n",
    "from scipy import optimize\n",
    "objective_function = lambda h: f(h[0],par_dict, m)\n",
    "def optimizer(m, h_guess, par_dict):\n",
    "    objective_function = lambda h: f(h[0],par_dict, m)\n",
    "    res = optimize.minimize(objective_function, h_guess, method='Nelder-Mead')\n",
    "    h_best_scipy = res.x[0]\n",
    "    f_best_scipy = -res.fun\n",
    "    c_best_scipy = c(h_best_scipy, housing_cost, par_dict, m)\n",
    "    return h_best_scipy, c_best_scipy, f_best_scipy\n",
    "optimizer(0.5,0, par_dict)\n"
   ]
  },
  {
   "cell_type": "markdown",
   "metadata": {},
   "source": [
    "Our solution therefore is that: $$h^*=4.1667 \\\\ c^*=0.3500 \\\\ u^*=0.7358$$, "
   ]
  },
  {
   "cell_type": "markdown",
   "metadata": {},
   "source": [
    "Question 2:"
   ]
  },
  {
   "cell_type": "code",
   "execution_count": 186,
   "metadata": {},
   "outputs": [],
   "source": [
    "# Making a list containing different m's\n",
    "import numpy as np\n",
    "m_vec = np.linspace(0.4,1.5,50)"
   ]
  },
  {
   "cell_type": "code",
   "execution_count": 189,
   "metadata": {},
   "outputs": [
    {
     "name": "stdout",
     "output_type": "stream",
     "text": [
      "m = 0.400, c* = 0.280, h* = 3.333 -> u = 0.589\n",
      "m = 0.422, c* = 0.296, h* = 3.520 -> u = 0.622\n",
      "m = 0.445, c* = 0.311, h* = 3.708 -> u = 0.655\n",
      "m = 0.467, c* = 0.327, h* = 3.895 -> u = 0.688\n",
      "m = 0.490, c* = 0.343, h* = 4.082 -> u = 0.721\n",
      "m = 0.512, c* = 0.359, h* = 4.269 -> u = 0.754\n",
      "m = 0.535, c* = 0.374, h* = 4.456 -> u = 0.787\n",
      "m = 0.557, c* = 0.390, h* = 4.643 -> u = 0.820\n",
      "m = 0.580, c* = 0.406, h* = 4.830 -> u = 0.853\n",
      "m = 0.602, c* = 0.421, h* = 5.017 -> u = 0.886\n",
      "m = 0.624, c* = 0.437, h* = 5.204 -> u = 0.919\n",
      "m = 0.647, c* = 0.453, h* = 5.391 -> u = 0.952\n",
      "m = 0.669, c* = 0.469, h* = 5.578 -> u = 0.985\n",
      "m = 0.692, c* = 0.484, h* = 5.765 -> u = 1.018\n",
      "m = 0.714, c* = 0.500, h* = 5.952 -> u = 1.051\n",
      "m = 0.737, c* = 0.521, h* = 6.000 -> u = 1.084\n",
      "m = 0.759, c* = 0.540, h* = 6.088 -> u = 1.117\n",
      "m = 0.782, c* = 0.556, h* = 6.266 -> u = 1.149\n",
      "m = 0.804, c* = 0.571, h* = 6.443 -> u = 1.182\n",
      "m = 0.827, c* = 0.587, h* = 6.620 -> u = 1.214\n",
      "m = 0.849, c* = 0.603, h* = 6.797 -> u = 1.247\n",
      "m = 0.871, c* = 0.618, h* = 6.974 -> u = 1.279\n",
      "m = 0.894, c* = 0.634, h* = 7.152 -> u = 1.312\n",
      "m = 0.916, c* = 0.650, h* = 7.329 -> u = 1.344\n",
      "m = 0.939, c* = 0.666, h* = 7.506 -> u = 1.377\n",
      "m = 0.961, c* = 0.681, h* = 7.683 -> u = 1.409\n",
      "m = 0.984, c* = 0.697, h* = 7.861 -> u = 1.442\n",
      "m = 1.006, c* = 0.713, h* = 8.038 -> u = 1.474\n",
      "m = 1.029, c* = 0.728, h* = 8.215 -> u = 1.507\n",
      "m = 1.051, c* = 0.744, h* = 8.392 -> u = 1.539\n",
      "m = 1.073, c* = 0.760, h* = 8.570 -> u = 1.572\n",
      "m = 1.096, c* = 0.776, h* = 8.747 -> u = 1.604\n",
      "m = 1.118, c* = 0.791, h* = 8.924 -> u = 1.637\n",
      "m = 1.141, c* = 0.807, h* = 9.101 -> u = 1.669\n",
      "m = 1.163, c* = 0.823, h* = 9.278 -> u = 1.702\n",
      "m = 1.186, c* = 0.838, h* = 9.456 -> u = 1.734\n",
      "m = 1.208, c* = 0.854, h* = 9.633 -> u = 1.767\n",
      "m = 1.231, c* = 0.870, h* = 9.810 -> u = 1.799\n",
      "m = 1.253, c* = 0.886, h* = 9.987 -> u = 1.832\n",
      "m = 1.276, c* = 0.901, h* = 10.165 -> u = 1.864\n",
      "m = 1.298, c* = 0.917, h* = 10.342 -> u = 1.897\n",
      "m = 1.320, c* = 0.933, h* = 10.519 -> u = 1.929\n",
      "m = 1.343, c* = 0.948, h* = 10.696 -> u = 1.962\n",
      "m = 1.365, c* = 0.964, h* = 10.874 -> u = 1.994\n",
      "m = 1.388, c* = 0.980, h* = 11.051 -> u = 2.027\n",
      "m = 1.410, c* = 0.996, h* = 11.228 -> u = 2.059\n",
      "m = 1.433, c* = 1.011, h* = 11.405 -> u = 2.092\n",
      "m = 1.455, c* = 1.027, h* = 11.582 -> u = 2.124\n",
      "m = 1.478, c* = 1.043, h* = 11.760 -> u = 2.157\n",
      "m = 1.500, c* = 1.058, h* = 11.937 -> u = 2.189\n"
     ]
    }
   ],
   "source": [
    "# Looping through the optimization problem with different m's\n",
    "from scipy import optimize\n",
    "\n",
    "\n",
    "#creating empty lists for c* and h*\n",
    "h_vec = []\n",
    "c_vec = []\n",
    "for m in m_vec:\n",
    "    h_best, c_best, f_best = optimizer(m, 0 , par_dict)\n",
    "    c_vec.append(c_best)\n",
    "    h_vec.append(h_best)\n",
    "    print(f'm = {m:.3f}, c* = {c_best:.3f}, h* = {h_best:.3f} -> u = {f_best:.3f}')"
   ]
  },
  {
   "cell_type": "code",
   "execution_count": 190,
   "metadata": {},
   "outputs": [
    {
     "data": {
      "image/png": "[encoded data removed]",
      "text/plain": [
       "<Figure size 432x288 with 2 Axes>"
      ]
     },
     "metadata": {
      "needs_background": "light"
     },
     "output_type": "display_data"
    }
   ],
   "source": [
    "# Creating a plot of c* and h*\n",
    "import matplotlib.pyplot as plt\n",
    "fig = plt.figure() # dpi = dots-per-inch (resolution)\n",
    "ax = fig.add_subplot(1,2,1)\n",
    "\n",
    "ax.plot(m_vec,c_vec,ls='--',lw=2,color='black',label='$c*(m)$')\n",
    "\n",
    "ax.set_xlabel('$m$')\n",
    "\n",
    "ax.grid(True)\n",
    "ax.legend(loc='upper center');\n",
    "\n",
    "ax = fig.add_subplot(1,2,2)\n",
    "ax.plot(m_vec,h_vec, ls='--',lw=2,color='black',label='$h*(m)$')\n",
    "ax.set_xlabel('$m$')\n",
    "\n",
    "ax.grid(True)\n",
    "ax.legend(loc='upper center');\n"
   ]
  },
  {
   "cell_type": "markdown",
   "metadata": {},
   "source": [
    "Question 3:"
   ]
  },
  {
   "cell_type": "code",
   "execution_count": 194,
   "metadata": {},
   "outputs": [
    {
     "name": "stdout",
     "output_type": "stream",
     "text": [
      "363.2680386250022\n"
     ]
    }
   ],
   "source": [
    "import numpy as np\n",
    "np.random.seed(1)\n",
    "N=10000\n",
    "m_i= np.random.lognormal(-0.4,0.35,N)\n",
    "\n",
    "def T(m_i,public_assessment,par_dict):\n",
    "    x = 0\n",
    "    for m in m_i:\n",
    "        \n",
    "        h_best, c_best, f_best = optimizer(m, 0 , par_dict)\n",
    "        \n",
    "        tax = par_dict['taug'] * public_assessment(h_best,par_dict) + par_dict['taup'] * max(public_assessment(h_best,par_dict)-par_dict['pbar'],0)\n",
    "        \n",
    "        x = x + tax\n",
    "    return x\n",
    "print(T(m_i,public_assessment,par_dict))"
   ]
  },
  {
   "cell_type": "code",
   "execution_count": 120,
   "metadata": {},
   "outputs": [
    {
     "name": "stdout",
     "output_type": "stream",
     "text": [
      "1.1835529359554933\n"
     ]
    }
   ],
   "source": [
    "print(m_i)"
   ]
  },
  {
   "cell_type": "code",
   "execution_count": null,
   "metadata": {},
   "outputs": [],
   "source": []
  }
 ],
 "metadata": {
  "kernelspec": {
   "display_name": "Python 3",
   "language": "python",
   "name": "python3"
  },
  "language_info": {
   "codemirror_mode": {
    "name": "ipython",
    "version": 3
   },
   "file_extension": ".py",
   "mimetype": "text/x-python",
   "name": "python",
   "nbconvert_exporter": "python",
   "pygments_lexer": "ipython3",
   "version": "3.8.5"
  }
 },
 "nbformat": 4,
 "nbformat_minor": 4
}
