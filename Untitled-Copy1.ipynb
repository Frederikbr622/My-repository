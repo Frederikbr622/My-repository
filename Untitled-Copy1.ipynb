{
 "cells": [
  {
   "cell_type": "markdown",
   "metadata": {},
   "source": [
    "Inaugural project"
   ]
  },
  {
   "cell_type": "markdown",
   "metadata": {},
   "source": [
    "Question 1:"
   ]
  },
  {
   "cell_type": "code",
   "execution_count": 65,
   "metadata": {},
   "outputs": [],
   "source": [
    "# Defining a dictionary with our parameters\n",
    "par_dict = {'phi' : 0.3,\n",
    "           'epsilon' : 0.5,\n",
    "           'r' : 0.03,\n",
    "           'taug' : 0.012,\n",
    "           'taup' : 0.004,\n",
    "           'pbar' : 3}\n",
    "m=0.5\n",
    "\n",
    "# Creating our function\n",
    "def u(c, h, par_dict):\n",
    "    return (c**(1-par_dict['phi']))*(h**par_dict['phi'])\n",
    "\n",
    "# Defining the constraints (Applying h = ph)\n",
    "\n",
    "#Equation 2:\n",
    "def public_assessment(h,par_dict):\n",
    "    return h*par_dict['epsilon']\n",
    "\n",
    "#Equation 4:\n",
    "def housing_cost (h, public_assessment, par_dict):\n",
    "    return par_dict['r'] * h + par_dict['taug'] * public_assessment(h,par_dict) + par_dict['taup'] * max(public_assessment(h,par_dict)-par_dict['pbar'],0)\n",
    "\n",
    "#Equation 3:\n",
    "def c (h, housing_cost, par_dict):\n",
    "    return m-housing_cost(h, public_assessment, par_dict)\n",
    "\n",
    "def f(h, par_dict):\n",
    "    return -u(c(h, housing_cost, par_dict), h, par_dict)"
   ]
  },
  {
   "cell_type": "code",
   "execution_count": 66,
   "metadata": {},
   "outputs": [
    {
     "name": "stdout",
     "output_type": "stream",
     "text": [
      "The highest achieveable utility is 0.73584147 at h* = 4.16668750 and c* = 0.34999925\n"
     ]
    }
   ],
   "source": [
    "# Optimizing through scipy optimize\n",
    "from scipy import optimize\n",
    "objective_function = lambda h: f(h[0],par_dict)\n",
    "h_guess = [0]\n",
    "res = optimize.minimize(objective_function, h_guess, method='Nelder-Mead')\n",
    "h_best_scipy = res.x[0]\n",
    "f_best_scipy = res.fun\n",
    "\n",
    "print(f'The highest achieveable utility is {-f_best_scipy:.8f} at h* = {h_best_scipy:.8f} and c* = {c(h_best_scipy,housing_cost, par_dict):.8f}')"
   ]
  },
  {
   "cell_type": "markdown",
   "metadata": {},
   "source": [
    "Question 2:"
   ]
  },
  {
   "cell_type": "code",
   "execution_count": 67,
   "metadata": {},
   "outputs": [],
   "source": [
    "# Making a list containing different m's\n",
    "m_vec = [0.4, 0.5, 0.6 , 0.7, 0.8, 0.9, 1, 1.1, 1.2, 1.3, 1.4, 1.5]"
   ]
  },
  {
   "cell_type": "code",
   "execution_count": 109,
   "metadata": {},
   "outputs": [
    {
     "name": "stdout",
     "output_type": "stream",
     "text": [
      "m = 0.400, c* = 0.280, h* = 3.333 -> u = 0.589\n",
      "m = 0.500, c* = 0.350, h* = 4.167 -> u = 0.736\n",
      "m = 0.600, c* = 0.420, h* = 5.000 -> u = 0.883\n",
      "m = 0.700, c* = 0.490, h* = 5.833 -> u = 1.030\n",
      "m = 0.800, c* = 0.568, h* = 6.411 -> u = 1.176\n",
      "m = 0.900, c* = 0.638, h* = 7.200 -> u = 1.321\n",
      "m = 1.000, c* = 0.708, h* = 7.990 -> u = 1.465\n",
      "m = 1.100, c* = 0.778, h* = 8.779 -> u = 1.610\n",
      "m = 1.200, c* = 0.848, h* = 9.568 -> u = 1.755\n",
      "m = 1.300, c* = 0.918, h* = 10.358 -> u = 1.900\n",
      "m = 1.400, c* = 0.988, h* = 11.147 -> u = 2.045\n",
      "m = 1.500, c* = 1.058, h* = 11.937 -> u = 2.189\n"
     ]
    }
   ],
   "source": [
    "# Looping through the optimization problem with different m's\n",
    "from scipy import optimize\n",
    "objective_function = lambda h: f(h[0],par_dict)\n",
    "h_guess = [0]\n",
    "#creating empty lists for c* and h*\n",
    "h_vec = []\n",
    "c_vec = []\n",
    "for m in m_vec:\n",
    "    res = optimize.minimize(objective_function, h_guess, method='Nelder-Mead')\n",
    "    c_vec.append(c(res.x[0],housing_cost, par_dict))\n",
    "    h_vec.append(res.x[0])\n",
    "    print(f'm = {m:.3f}, c* = {c(res.x[0],housing_cost, par_dict):.3f}, h* = {res.x[0]:.3f} -> u = {-res.fun:.3f}')"
   ]
  },
  {
   "cell_type": "code",
   "execution_count": 110,
   "metadata": {},
   "outputs": [
    {
     "data": {
      "image/png": "[encoded data removed]",
      "text/plain": [
       "<Figure size 432x288 with 2 Axes>"
      ]
     },
     "metadata": {
      "needs_background": "light"
     },
     "output_type": "display_data"
    }
   ],
   "source": [
    "# Creating a plot of c* and h*\n",
    "import matplotlib.pyplot as plt\n",
    "fig = plt.figure() # dpi = dots-per-inch (resolution)\n",
    "ax = fig.add_subplot(1,2,1)\n",
    "\n",
    "ax.plot(m_vec,c_vec,ls='--',lw=2,color='black',label='$c*(m)$')\n",
    "\n",
    "ax.set_xlabel('$m$')\n",
    "\n",
    "ax.grid(True)\n",
    "ax.legend(loc='upper center');\n",
    "\n",
    "ax = fig.add_subplot(1,2,2)\n",
    "ax.plot(m_vec,h_vec, ls='--',lw=2,color='black',label='$h*(m)$')\n",
    "ax.set_xlabel('$m$')\n",
    "\n",
    "ax.grid(True)\n",
    "ax.legend(loc='upper center');\n"
   ]
  },
  {
   "cell_type": "markdown",
   "metadata": {},
   "source": [
    "Question 3:\n"
   ]
  }
 ],
 "metadata": {
  "kernelspec": {
   "display_name": "Python 3",
   "language": "python",
   "name": "python3"
  },
  "language_info": {
   "codemirror_mode": {
    "name": "ipython",
    "version": 3
   },
   "file_extension": ".py",
   "mimetype": "text/x-python",
   "name": "python",
   "nbconvert_exporter": "python",
   "pygments_lexer": "ipython3",
   "version": "3.8.5"
  }
 },
 "nbformat": 4,
 "nbformat_minor": 4
}
