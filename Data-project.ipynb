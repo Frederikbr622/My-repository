{
 "cells": [
  {
   "cell_type": "markdown",
   "metadata": {},
   "source": [
    "# Data project"
   ]
  },
  {
   "cell_type": "code",
   "execution_count": 1,
   "metadata": {},
   "outputs": [],
   "source": [
    "#Importing the packages that we need:\n",
    "import numpy as np\n",
    "import matplotlib.pyplot as plt\n",
    "plt.style.use('seaborn-whitegrid')\n",
    "import pandas as pd\n",
    "import pydst\n",
    "import ipywidgets as widgets\n",
    "\n",
    "# We also use the following API's:\n",
    "\n",
    "#!pip install git+https://github.com/elben10/pydst\n",
    "#!pip install pandas-datareader\n",
    "#!pip install matplotlib-venn\n",
    "\n",
    "\n",
    "dst = pydst.Dst(lang='en')"
   ]
  },
  {
   "cell_type": "markdown",
   "metadata": {},
   "source": [
    "We want to examine whether there is a correlation between real estate pricing of family homes and the rental rate. This is based on the economic assumption that lower rates increase the pricing of financial assets (in this case housing loans) as the discountrate becomes smaller. We are gonna use the rent on the certificates of deposit in the Danish National Bank as the rental rate. First we load the real estate prices for each region in Denmark on a monthly basis from 2006 to 2020 january."
   ]
  },
  {
   "cell_type": "markdown",
   "metadata": {},
   "source": [
    "# Fetching our data"
   ]
  },
  {
   "cell_type": "code",
   "execution_count": 2,
   "metadata": {},
   "outputs": [
    {
     "data": {
      "text/html": [
       "<div>\n",
       "<style scoped>\n",
       "    .dataframe tbody tr th:only-of-type {\n",
       "        vertical-align: middle;\n",
       "    }\n",
       "\n",
       "    .dataframe tbody tr th {\n",
       "        vertical-align: top;\n",
       "    }\n",
       "\n",
       "    .dataframe thead th {\n",
       "        text-align: right;\n",
       "    }\n",
       "</style>\n",
       "<table border=\"1\" class=\"dataframe\">\n",
       "  <thead>\n",
       "    <tr style=\"text-align: right;\">\n",
       "      <th></th>\n",
       "      <th>REGION</th>\n",
       "      <th>EJENDOMSKATE</th>\n",
       "      <th>TAL</th>\n",
       "      <th>TID</th>\n",
       "      <th>INDHOLD</th>\n",
       "    </tr>\n",
       "  </thead>\n",
       "  <tbody>\n",
       "    <tr>\n",
       "      <th>0</th>\n",
       "      <td>All Denmark</td>\n",
       "      <td>One-family houses</td>\n",
       "      <td>Index</td>\n",
       "      <td>2006M01</td>\n",
       "      <td>92.5</td>\n",
       "    </tr>\n",
       "    <tr>\n",
       "      <th>6</th>\n",
       "      <td>Region Nordjylland</td>\n",
       "      <td>One-family houses</td>\n",
       "      <td>Index</td>\n",
       "      <td>2006M01</td>\n",
       "      <td>94.1</td>\n",
       "    </tr>\n",
       "    <tr>\n",
       "      <th>12</th>\n",
       "      <td>Region Midtjylland</td>\n",
       "      <td>One-family houses</td>\n",
       "      <td>Index</td>\n",
       "      <td>2006M01</td>\n",
       "      <td>93.9</td>\n",
       "    </tr>\n",
       "    <tr>\n",
       "      <th>18</th>\n",
       "      <td>Region Syddanmark</td>\n",
       "      <td>One-family houses</td>\n",
       "      <td>Index</td>\n",
       "      <td>2006M01</td>\n",
       "      <td>94.6</td>\n",
       "    </tr>\n",
       "    <tr>\n",
       "      <th>24</th>\n",
       "      <td>Region Hovedstaden</td>\n",
       "      <td>One-family houses</td>\n",
       "      <td>Index</td>\n",
       "      <td>2006M01</td>\n",
       "      <td>90.0</td>\n",
       "    </tr>\n",
       "    <tr>\n",
       "      <th>30</th>\n",
       "      <td>Region Sjælland</td>\n",
       "      <td>One-family houses</td>\n",
       "      <td>Index</td>\n",
       "      <td>2006M01</td>\n",
       "      <td>91.7</td>\n",
       "    </tr>\n",
       "    <tr>\n",
       "      <th>36</th>\n",
       "      <td>All Denmark</td>\n",
       "      <td>One-family houses</td>\n",
       "      <td>Index</td>\n",
       "      <td>2006M02</td>\n",
       "      <td>94.2</td>\n",
       "    </tr>\n",
       "    <tr>\n",
       "      <th>42</th>\n",
       "      <td>Region Nordjylland</td>\n",
       "      <td>One-family houses</td>\n",
       "      <td>Index</td>\n",
       "      <td>2006M02</td>\n",
       "      <td>97.4</td>\n",
       "    </tr>\n",
       "    <tr>\n",
       "      <th>48</th>\n",
       "      <td>Region Midtjylland</td>\n",
       "      <td>One-family houses</td>\n",
       "      <td>Index</td>\n",
       "      <td>2006M02</td>\n",
       "      <td>94.6</td>\n",
       "    </tr>\n",
       "    <tr>\n",
       "      <th>54</th>\n",
       "      <td>Region Syddanmark</td>\n",
       "      <td>One-family houses</td>\n",
       "      <td>Index</td>\n",
       "      <td>2006M02</td>\n",
       "      <td>94.2</td>\n",
       "    </tr>\n",
       "  </tbody>\n",
       "</table>\n",
       "</div>"
      ],
      "text/plain": [
       "                REGION       EJENDOMSKATE    TAL      TID INDHOLD\n",
       "0          All Denmark  One-family houses  Index  2006M01    92.5\n",
       "6   Region Nordjylland  One-family houses  Index  2006M01    94.1\n",
       "12  Region Midtjylland  One-family houses  Index  2006M01    93.9\n",
       "18   Region Syddanmark  One-family houses  Index  2006M01    94.6\n",
       "24  Region Hovedstaden  One-family houses  Index  2006M01    90.0\n",
       "30     Region Sjælland  One-family houses  Index  2006M01    91.7\n",
       "36         All Denmark  One-family houses  Index  2006M02    94.2\n",
       "42  Region Nordjylland  One-family houses  Index  2006M02    97.4\n",
       "48  Region Midtjylland  One-family houses  Index  2006M02    94.6\n",
       "54   Region Syddanmark  One-family houses  Index  2006M02    94.2"
      ]
     },
     "execution_count": 2,
     "metadata": {},
     "output_type": "execute_result"
    }
   ],
   "source": [
    "# a. Loading dataset from Denmarks statistics\n",
    "ej14_true = dst.get_data(table_id = 'ej14', variables={'REGION':['*'], 'EJENDOMSKATE':['*'], 'TAL':['*'], 'TID':['*']})\n",
    "\n",
    "# We drop the parts of our dataset that we don't intend to use\n",
    "I = ej14_true.EJENDOMSKATE.str.contains('Owner')\n",
    "I |= ej14_true.TAL.str.contains('Percentage')\n",
    "ej14_true.loc[I, :]\n",
    "\n",
    "ej14_true = ej14_true.loc[I == False] # keep everything else\n",
    "ej14_true.head(10)"
   ]
  },
  {
   "cell_type": "markdown",
   "metadata": {},
   "source": [
    "## Exploring the the real estate pricing dataset"
   ]
  },
  {
   "cell_type": "markdown",
   "metadata": {},
   "source": [
    "We want to make our table above look a little nicer which is why we do different things such that it looks a little better:"
   ]
  },
  {
   "cell_type": "code",
   "execution_count": 3,
   "metadata": {},
   "outputs": [
    {
     "data": {
      "text/html": [
       "<div>\n",
       "<style scoped>\n",
       "    .dataframe tbody tr th:only-of-type {\n",
       "        vertical-align: middle;\n",
       "    }\n",
       "\n",
       "    .dataframe tbody tr th {\n",
       "        vertical-align: top;\n",
       "    }\n",
       "\n",
       "    .dataframe thead th {\n",
       "        text-align: right;\n",
       "    }\n",
       "</style>\n",
       "<table border=\"1\" class=\"dataframe\">\n",
       "  <thead>\n",
       "    <tr style=\"text-align: right;\">\n",
       "      <th></th>\n",
       "      <th>Region</th>\n",
       "      <th>Year</th>\n",
       "      <th>Price</th>\n",
       "    </tr>\n",
       "  </thead>\n",
       "  <tbody>\n",
       "    <tr>\n",
       "      <th>0</th>\n",
       "      <td>All Denmark</td>\n",
       "      <td>2006M01</td>\n",
       "      <td>92.5</td>\n",
       "    </tr>\n",
       "    <tr>\n",
       "      <th>36</th>\n",
       "      <td>All Denmark</td>\n",
       "      <td>2006M02</td>\n",
       "      <td>94.2</td>\n",
       "    </tr>\n",
       "    <tr>\n",
       "      <th>72</th>\n",
       "      <td>All Denmark</td>\n",
       "      <td>2006M03</td>\n",
       "      <td>96.4</td>\n",
       "    </tr>\n",
       "    <tr>\n",
       "      <th>108</th>\n",
       "      <td>All Denmark</td>\n",
       "      <td>2006M04</td>\n",
       "      <td>98.8</td>\n",
       "    </tr>\n",
       "    <tr>\n",
       "      <th>144</th>\n",
       "      <td>All Denmark</td>\n",
       "      <td>2006M05</td>\n",
       "      <td>100.4</td>\n",
       "    </tr>\n",
       "  </tbody>\n",
       "</table>\n",
       "</div>"
      ],
      "text/plain": [
       "          Region     Year  Price\n",
       "0    All Denmark  2006M01   92.5\n",
       "36   All Denmark  2006M02   94.2\n",
       "72   All Denmark  2006M03   96.4\n",
       "108  All Denmark  2006M04   98.8\n",
       "144  All Denmark  2006M05  100.4"
      ]
     },
     "execution_count": 3,
     "metadata": {},
     "output_type": "execute_result"
    }
   ],
   "source": [
    "# First of all we deletes the columns that are constant:\n",
    "del ej14_true['EJENDOMSKATE']\n",
    "del ej14_true['TAL']\n",
    "\n",
    "# We also rename our columns so that they make more sense:\n",
    "ej14_true.rename(columns = {'INDHOLD':'Price'}, inplace=True)\n",
    "ej14_true.rename(columns = {'TID':'Year'}, inplace=True)\n",
    "ej14_true.rename(columns = {'REGION':'Region'}, inplace=True)\n",
    "\n",
    "\n",
    "# Last of all we sort the table first by region and then by year:\n",
    "ej14_true = ej14_true.sort_values(['Region', 'Year'])\n",
    "ej14_true.head(5)"
   ]
  },
  {
   "cell_type": "markdown",
   "metadata": {},
   "source": [
    "We will now explore the dataset by creating an interactive figure that shows the real estate prices through time for each region:"
   ]
  },
  {
   "cell_type": "code",
   "execution_count": 4,
   "metadata": {},
   "outputs": [],
   "source": [
    "# We make sure that the price is a float:\n",
    "ej14_true['Price'] = ej14_true.Price.astype(float)\n",
    "\n",
    "# We then create a function that creates a static plot:\n",
    "def plot_ej14_true(region): \n",
    "    y = 'Price'\n",
    "    ax = ej14_true[ej14_true.Region == region].plot(x='Year', y=y, style='-o')"
   ]
  },
  {
   "cell_type": "code",
   "execution_count": 5,
   "metadata": {},
   "outputs": [
    {
     "data": {
      "application/vnd.jupyter.widget-view+json": {
       "model_id": "3ae425cdbae64b6cb37b875a129ac21c",
       "version_major": 2,
       "version_minor": 0
      },
      "text/plain": [
       "interactive(children=(Dropdown(description='Region', options=('All Denmark', 'Region Hovedstaden', 'Region Mid…"
      ]
     },
     "metadata": {},
     "output_type": "display_data"
    }
   ],
   "source": [
    "# Here we create the interactive plot, so that it is possible to choose which region you want to see the real estate prices for:\n",
    "widgets.interact(plot_ej14_true, \n",
    "    \n",
    "    ej14_true = widgets.fixed(ej14_true),\n",
    "    region = widgets.Dropdown(description='Region', \n",
    "                                    options=ej14_true.Region.unique())\n",
    "                 \n",
    "); "
   ]
  },
  {
   "cell_type": "markdown",
   "metadata": {},
   "source": [
    "## Fetchin the data for the rate"
   ]
  },
  {
   "cell_type": "markdown",
   "metadata": {},
   "source": [
    "We also want to look at the rate and for this reason we load another dataset containing the rates in Denmark."
   ]
  },
  {
   "cell_type": "code",
   "execution_count": 6,
   "metadata": {},
   "outputs": [
    {
     "data": {
      "text/html": [
       "<div>\n",
       "<style scoped>\n",
       "    .dataframe tbody tr th:only-of-type {\n",
       "        vertical-align: middle;\n",
       "    }\n",
       "\n",
       "    .dataframe tbody tr th {\n",
       "        vertical-align: top;\n",
       "    }\n",
       "\n",
       "    .dataframe thead th {\n",
       "        text-align: right;\n",
       "    }\n",
       "</style>\n",
       "<table border=\"1\" class=\"dataframe\">\n",
       "  <thead>\n",
       "    <tr style=\"text-align: right;\">\n",
       "      <th></th>\n",
       "      <th>Year</th>\n",
       "      <th>Rental_rate</th>\n",
       "    </tr>\n",
       "  </thead>\n",
       "  <tbody>\n",
       "    <tr>\n",
       "      <th>6640</th>\n",
       "      <td>2006M01</td>\n",
       "      <td>2.4000</td>\n",
       "    </tr>\n",
       "    <tr>\n",
       "      <th>6641</th>\n",
       "      <td>2006M02</td>\n",
       "      <td>2.5000</td>\n",
       "    </tr>\n",
       "    <tr>\n",
       "      <th>30432</th>\n",
       "      <td>2006M03</td>\n",
       "      <td>2.7500</td>\n",
       "    </tr>\n",
       "    <tr>\n",
       "      <th>30433</th>\n",
       "      <td>2006M04</td>\n",
       "      <td>2.7500</td>\n",
       "    </tr>\n",
       "    <tr>\n",
       "      <th>30616</th>\n",
       "      <td>2006M05</td>\n",
       "      <td>2.7500</td>\n",
       "    </tr>\n",
       "    <tr>\n",
       "      <th>30617</th>\n",
       "      <td>2006M06</td>\n",
       "      <td>3.0000</td>\n",
       "    </tr>\n",
       "    <tr>\n",
       "      <th>20854</th>\n",
       "      <td>2006M07</td>\n",
       "      <td>3.0000</td>\n",
       "    </tr>\n",
       "    <tr>\n",
       "      <th>20855</th>\n",
       "      <td>2006M08</td>\n",
       "      <td>3.2500</td>\n",
       "    </tr>\n",
       "    <tr>\n",
       "      <th>21038</th>\n",
       "      <td>2006M09</td>\n",
       "      <td>3.2500</td>\n",
       "    </tr>\n",
       "    <tr>\n",
       "      <th>21039</th>\n",
       "      <td>2006M10</td>\n",
       "      <td>3.5000</td>\n",
       "    </tr>\n",
       "  </tbody>\n",
       "</table>\n",
       "</div>"
      ],
      "text/plain": [
       "          Year Rental_rate\n",
       "6640   2006M01      2.4000\n",
       "6641   2006M02      2.5000\n",
       "30432  2006M03      2.7500\n",
       "30433  2006M04      2.7500\n",
       "30616  2006M05      2.7500\n",
       "30617  2006M06      3.0000\n",
       "20854  2006M07      3.0000\n",
       "20855  2006M08      3.2500\n",
       "21038  2006M09      3.2500\n",
       "21039  2006M10      3.5000"
      ]
     },
     "execution_count": 6,
     "metadata": {},
     "output_type": "execute_result"
    }
   ],
   "source": [
    "# We load dowm the dataset for the rate\n",
    "rate = dst.get_data(table_id = 'DNRENTM', variables={'INSTRUMENT':['*'], 'LAND':['*'], 'OPGOER':['*'], 'TID':['*']})\n",
    "\n",
    "\n",
    "# We delete the observations for which we dont have data for the housing prices:\n",
    "I = rate.TID.str.contains('1985')\n",
    "I |= rate.TID.str.contains('1986')\n",
    "I |= rate.TID.str.contains('1987')\n",
    "I |= rate.TID.str.contains('1988')\n",
    "I |= rate.TID.str.contains('1989')\n",
    "I |= rate.TID.str.contains('1990')\n",
    "I |= rate.TID.str.contains('1991')\n",
    "I |= rate.TID.str.contains('1992')\n",
    "I |= rate.TID.str.contains('1993')\n",
    "I |= rate.TID.str.contains('1994')\n",
    "I |= rate.TID.str.contains('1995')\n",
    "I |= rate.TID.str.contains('1996')\n",
    "I |= rate.TID.str.contains('1997')\n",
    "I |= rate.TID.str.contains('1998')\n",
    "I |= rate.TID.str.contains('1999')\n",
    "I |= rate.TID.str.contains('2000')\n",
    "I |= rate.TID.str.contains('2001')\n",
    "I |= rate.TID.str.contains('2002')\n",
    "I |= rate.TID.str.contains('2003')\n",
    "I |= rate.TID.str.contains('2004')\n",
    "I |= rate.TID.str.contains('2005')\n",
    "rate.loc[I, :]\n",
    "\n",
    "rate = rate.loc[I == False] # keep everything else\n",
    "\n",
    "# We only use the ultimo rate of the month since the average does not make sense for this rate\n",
    "I = rate.OPGOER.str.contains('Monthly')\n",
    "rate.loc[I, :]\n",
    "\n",
    "rate = rate.loc[I == False] # keep everything else\n",
    "\n",
    "# We only want the rate for certificates of deposit and we select that date using the following code:\n",
    "# Here we do the opposite of all the other cases where we identify which rows contains \"certificates\" and then delete everything else\n",
    "I = rate.INSTRUMENT.str.contains('Certificates')\n",
    "rate.loc[I, :]\n",
    "\n",
    "rate = rate.loc[I == True] # Delete everything else\n",
    "\n",
    "# Delete columns that no longer are relevant\n",
    "del rate['LAND']\n",
    "del rate['OPGOER']\n",
    "del rate['INSTRUMENT']\n",
    "\n",
    "#Sort for time\n",
    "rate = rate.sort_values(['TID'])\n",
    "\n",
    "#Renaming the column for the rate\n",
    "rate.rename(columns = {'INDHOLD':'Rental_rate'}, inplace=True)\n",
    "rate.rename(columns = {'TID':'Year'}, inplace=True)\n",
    "\n",
    "rate.head(10)"
   ]
  },
  {
   "cell_type": "markdown",
   "metadata": {},
   "source": [
    "## Exploring the dataset containing the rate"
   ]
  },
  {
   "cell_type": "markdown",
   "metadata": {},
   "source": [
    "As before we want to examine the rental rate through time which we do through a plot:"
   ]
  },
  {
   "cell_type": "code",
   "execution_count": 7,
   "metadata": {},
   "outputs": [
    {
     "data": {
      "image/png": "[encoded data removed]",
      "text/plain": [
       "<Figure size 432x288 with 1 Axes>"
      ]
     },
     "metadata": {},
     "output_type": "display_data"
    }
   ],
   "source": [
    "# We want to make sure that the rental rate is a float\n",
    "rate['Rental_rate'] = rate.Rental_rate.astype(float)\n",
    "\n",
    "# Now we plot the rate:\n",
    "ax = rate.plot(x='Year', y='Rental_rate', style='-o')\n"
   ]
  },
  {
   "cell_type": "markdown",
   "metadata": {},
   "source": [
    "# Merging the dataframes"
   ]
  },
  {
   "cell_type": "markdown",
   "metadata": {},
   "source": [
    "When we want to analyse the data it is fruitfull to merge the data into one dataset:"
   ]
  },
  {
   "cell_type": "code",
   "execution_count": 8,
   "metadata": {},
   "outputs": [
    {
     "data": {
      "text/html": [
       "<div>\n",
       "<style scoped>\n",
       "    .dataframe tbody tr th:only-of-type {\n",
       "        vertical-align: middle;\n",
       "    }\n",
       "\n",
       "    .dataframe tbody tr th {\n",
       "        vertical-align: top;\n",
       "    }\n",
       "\n",
       "    .dataframe thead th {\n",
       "        text-align: right;\n",
       "    }\n",
       "</style>\n",
       "<table border=\"1\" class=\"dataframe\">\n",
       "  <thead>\n",
       "    <tr style=\"text-align: right;\">\n",
       "      <th></th>\n",
       "      <th>Region</th>\n",
       "      <th>Year</th>\n",
       "      <th>Price</th>\n",
       "      <th>Rental_rate</th>\n",
       "    </tr>\n",
       "  </thead>\n",
       "  <tbody>\n",
       "    <tr>\n",
       "      <th>1031</th>\n",
       "      <td>Region Syddanmark</td>\n",
       "      <td>2020M04</td>\n",
       "      <td>113.7</td>\n",
       "      <td>-0.6</td>\n",
       "    </tr>\n",
       "    <tr>\n",
       "      <th>1037</th>\n",
       "      <td>Region Syddanmark</td>\n",
       "      <td>2020M05</td>\n",
       "      <td>112.5</td>\n",
       "      <td>-0.6</td>\n",
       "    </tr>\n",
       "    <tr>\n",
       "      <th>1043</th>\n",
       "      <td>Region Syddanmark</td>\n",
       "      <td>2020M06</td>\n",
       "      <td>114.3</td>\n",
       "      <td>-0.6</td>\n",
       "    </tr>\n",
       "    <tr>\n",
       "      <th>1049</th>\n",
       "      <td>Region Syddanmark</td>\n",
       "      <td>2020M07</td>\n",
       "      <td>116.3</td>\n",
       "      <td>-0.6</td>\n",
       "    </tr>\n",
       "    <tr>\n",
       "      <th>1055</th>\n",
       "      <td>Region Syddanmark</td>\n",
       "      <td>2020M08</td>\n",
       "      <td>115.5</td>\n",
       "      <td>-0.6</td>\n",
       "    </tr>\n",
       "    <tr>\n",
       "      <th>1061</th>\n",
       "      <td>Region Syddanmark</td>\n",
       "      <td>2020M09</td>\n",
       "      <td>115.3</td>\n",
       "      <td>-0.6</td>\n",
       "    </tr>\n",
       "    <tr>\n",
       "      <th>1067</th>\n",
       "      <td>Region Syddanmark</td>\n",
       "      <td>2020M10</td>\n",
       "      <td>118.8</td>\n",
       "      <td>-0.6</td>\n",
       "    </tr>\n",
       "    <tr>\n",
       "      <th>1073</th>\n",
       "      <td>Region Syddanmark</td>\n",
       "      <td>2020M11</td>\n",
       "      <td>119.9</td>\n",
       "      <td>-0.6</td>\n",
       "    </tr>\n",
       "    <tr>\n",
       "      <th>1079</th>\n",
       "      <td>Region Syddanmark</td>\n",
       "      <td>2020M12</td>\n",
       "      <td>118.2</td>\n",
       "      <td>-0.6</td>\n",
       "    </tr>\n",
       "    <tr>\n",
       "      <th>1085</th>\n",
       "      <td>Region Syddanmark</td>\n",
       "      <td>2021M01</td>\n",
       "      <td>123.2</td>\n",
       "      <td>-0.6</td>\n",
       "    </tr>\n",
       "  </tbody>\n",
       "</table>\n",
       "</div>"
      ],
      "text/plain": [
       "                 Region     Year  Price  Rental_rate\n",
       "1031  Region Syddanmark  2020M04  113.7         -0.6\n",
       "1037  Region Syddanmark  2020M05  112.5         -0.6\n",
       "1043  Region Syddanmark  2020M06  114.3         -0.6\n",
       "1049  Region Syddanmark  2020M07  116.3         -0.6\n",
       "1055  Region Syddanmark  2020M08  115.5         -0.6\n",
       "1061  Region Syddanmark  2020M09  115.3         -0.6\n",
       "1067  Region Syddanmark  2020M10  118.8         -0.6\n",
       "1073  Region Syddanmark  2020M11  119.9         -0.6\n",
       "1079  Region Syddanmark  2020M12  118.2         -0.6\n",
       "1085  Region Syddanmark  2021M01  123.2         -0.6"
      ]
     },
     "execution_count": 8,
     "metadata": {},
     "output_type": "execute_result"
    }
   ],
   "source": [
    "# We merge the datasets\n",
    "merged_true = pd.merge(ej14_true,rate,how='inner',on=['Year'])\n",
    "\n",
    "# Then we sort the values as before:\n",
    "merged_true = merged_true.sort_values(['Region','Year'])\n",
    "\n",
    "merged_true.tail(10)"
   ]
  },
  {
   "cell_type": "markdown",
   "metadata": {},
   "source": [
    "# Analysing the data"
   ]
  },
  {
   "cell_type": "markdown",
   "metadata": {},
   "source": [
    "## The correlation:"
   ]
  },
  {
   "cell_type": "markdown",
   "metadata": {},
   "source": [
    "We want to calculate the correlation between the real estate pricing and the rental rate:"
   ]
  },
  {
   "cell_type": "code",
   "execution_count": 9,
   "metadata": {},
   "outputs": [
    {
     "data": {
      "application/vnd.jupyter.widget-view+json": {
       "model_id": "9359e88a7aba49b4a638f0b4692f8bbf",
       "version_major": 2,
       "version_minor": 0
      },
      "text/plain": [
       "interactive(children=(Dropdown(description='Region', options=('All Denmark', 'Region Hovedstaden', 'Region Mid…"
      ]
     },
     "metadata": {},
     "output_type": "display_data"
    }
   ],
   "source": [
    "# First we make sure that the two variables are floats:\n",
    "merged_true['Rental_rate'] = merged_true.Rental_rate.astype(float)\n",
    "merged_true['Price'] = merged_true.Price.astype(float)\n",
    "\n",
    "# Then we create a function which can calculate the correlation coefficient:\n",
    "def corr_merged_true(region): \n",
    "    print(merged_true[merged_true.Region == region]['Price'].corr(merged_true['Rental_rate']))\n",
    "    \n",
    "# Here we would have liked to make a table containing the correlation coefficiennt for each region,\n",
    "# but we could not get it to work and for this reason we did another drop down thingy:\n",
    "widgets.interact(corr_merged_true, \n",
    "    \n",
    "    merged_true = widgets.fixed(merged_true),\n",
    "    region = widgets.Dropdown(description='Region', \n",
    "                                    options=merged_true.Region.unique())); "
   ]
  },
  {
   "cell_type": "markdown",
   "metadata": {},
   "source": [
    "The correlation for the different regions in Denmark are very small and even positive in some cases. This shows that our analysis is not very good. "
   ]
  },
  {
   "cell_type": "markdown",
   "metadata": {},
   "source": [
    "## Regression analysis"
   ]
  },
  {
   "cell_type": "markdown",
   "metadata": {},
   "source": [
    "We decided to try to see if we could do a regression which tries to explain the real estate price with the rate. We do this mostly to see how you do such a thing in pyton since it does not make a whole lot of sense in our particular case. "
   ]
  },
  {
   "cell_type": "code",
   "execution_count": 10,
   "metadata": {},
   "outputs": [
    {
     "data": {
      "application/vnd.jupyter.widget-view+json": {
       "model_id": "38dc5e2c4b8a4915b674bd715fa761f0",
       "version_major": 2,
       "version_minor": 0
      },
      "text/plain": [
       "interactive(children=(Dropdown(description='Region', options=('All Denmark', 'Region Hovedstaden', 'Region Mid…"
      ]
     },
     "metadata": {},
     "output_type": "display_data"
    }
   ],
   "source": [
    "# Importing an econometric package\n",
    "import statsmodels.formula.api as sm\n",
    "\n",
    "# Defining a function which does the regression\n",
    "def OLS(region):\n",
    "    df = merged_true[merged_true.Region == region]\n",
    "    result = sm.ols(formula=\"Price ~ Rental_rate\", data=df).fit()\n",
    "    print(result.params)\n",
    "    print(result.summary())\n",
    "\n",
    "# Making the dropdown widget(again) so that we can do the regression for each of the regions. \n",
    "widgets.interact(OLS,\n",
    "    region = widgets.Dropdown(description='Region', \n",
    "                                    options=merged_true.Region.unique())\n",
    "                 \n",
    "); "
   ]
  },
  {
   "cell_type": "markdown",
   "metadata": {},
   "source": [
    "Our OLS estimation shows a very small degree of explanation as observed via the R-squared row. Furthermore we observe that there is no significant link between the rate and housing prices in Denmark."
   ]
  },
  {
   "cell_type": "markdown",
   "metadata": {},
   "source": [
    "# Conclusion"
   ]
  },
  {
   "cell_type": "markdown",
   "metadata": {},
   "source": [
    "We expected the correlation between the rate and the real estate prices to be negative, since if the rate is lower people can lend more which leads to higher real estate prices. We however did not see this connection very clearly in our dataset. Our regression is so poor that it is unusable but if we use it anyway it does show that for the whole of Denmark the correlation is very slightly negative. We can however not conclude anything from this analysis because our regression is so poor."
   ]
  }
 ],
 "metadata": {
  "kernelspec": {
   "display_name": "Python 3",
   "language": "python",
   "name": "python3"
  },
  "language_info": {
   "codemirror_mode": {
    "name": "ipython",
    "version": 3
   },
   "file_extension": ".py",
   "mimetype": "text/x-python",
   "name": "python",
   "nbconvert_exporter": "python",
   "pygments_lexer": "ipython3",
   "version": "3.8.5"
  }
 },
 "nbformat": 4,
 "nbformat_minor": 4
}
