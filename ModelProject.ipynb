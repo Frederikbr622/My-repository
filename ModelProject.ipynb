{
 "cells": [
  {
   "cell_type": "markdown",
   "metadata": {},
   "source": [
    "# Model Project"
   ]
  },
  {
   "cell_type": "code",
   "execution_count": 27,
   "metadata": {},
   "outputs": [],
   "source": [
    "import numpy as np\n",
    "from scipy import linalg\n",
    "from scipy import optimize\n",
    "import sympy as sm\n",
    "import matplotlib.pyplot as plt\n",
    "plt.style.use('seaborn')"
   ]
  },
  {
   "cell_type": "code",
   "execution_count": 28,
   "metadata": {},
   "outputs": [],
   "source": [
    "import numpy as np\n",
    "import scipy as sp\n",
    "from scipy import linalg\n",
    "from scipy import optimize\n",
    "from scipy import interpolate\n",
    "import sympy as sm\n",
    "\n",
    "%matplotlib inline\n",
    "import matplotlib.pyplot as plt\n",
    "plt.style.use('seaborn-whitegrid')\n",
    "from matplotlib import cm\n",
    "from mpl_toolkits.mplot3d import Axes3D"
   ]
  },
  {
   "cell_type": "markdown",
   "metadata": {},
   "source": [
    "# Model description"
   ]
  },
  {
   "cell_type": "markdown",
   "metadata": {},
   "source": [
    "We consider a solow model for a closed economy with no growth in technology: \n",
    "\n",
    "* $K_t$ is capital\n",
    "* $L_t$ is labor (growing with a constant rate of $n$)\n",
    "* $Y_t = F(K_t,L_t)$ is GDP\n",
    "\n",
    "We have the following equations:\n",
    "\n",
    "$$Y_t = BK_t^\\alpha L_t^{1-\\alpha}$$\n",
    "$$L_{t+1} = (1+n) L_t$$\n",
    "\n",
    "**Saving** can be defined as the following fraction:\n",
    "\n",
    "$$ S_t = sY_t,\\,s\\in(0,1) $$\n",
    "\n",
    "These equations imply that the rate and the wage is the following:\n",
    "\n",
    "$$r_t = \\alpha B \\big(\\frac{K_t}{L_t}\\big)^{\\alpha-1}$$\n",
    "$$w_t = (1-\\alpha) B \\big(\\frac{K_t}{L_t}\\big)^{\\alpha}$$\n",
    "\n",
    "Capital accumulation is therefore:\n",
    "\n",
    "$$K_{t+1}= K_t + I_t-\\delta K_t$$\n",
    "\n",
    "$k_t$ can be defined as:\n",
    "\n",
    "$$k_t = \\frac{K_t}{Y_t}$$\n",
    "\n",
    "Using the intertemporal budget constraint it is possible to show that the transition equation is:\n",
    "\n",
    "$$ k_{t+1} = \\frac{1}{1+n}(sBk_t^\\alpha+(1-\\delta)k_t)$$"
   ]
  },
  {
   "cell_type": "markdown",
   "metadata": {},
   "source": [
    "# Steady state"
   ]
  },
  {
   "cell_type": "markdown",
   "metadata": {},
   "source": [
    "## Analytical solution"
   ]
  },
  {
   "cell_type": "markdown",
   "metadata": {},
   "source": [
    "In a standard solowmodel there is only a steady state in pr. capita values. In the transition equation we set $k_{t+1} = k_t = k$ and by doing that we get the steady state values for $y_t$ and $k_t$.\n",
    "$$ k = \\frac{1}{1+n}(sBk^\\alpha+(1-\\delta)k)$$"
   ]
  },
  {
   "cell_type": "code",
   "execution_count": 29,
   "metadata": {},
   "outputs": [],
   "source": [
    "# We define our variables/symbols:\n",
    "k = sm.symbols('k')\n",
    "alpha = sm.symbols('alpha')\n",
    "delta = sm.symbols('delta')\n",
    "s = sm.symbols('s')\n",
    "n = sm.symbols('n')\n",
    "B = sm.symbols('B')"
   ]
  },
  {
   "cell_type": "code",
   "execution_count": 30,
   "metadata": {},
   "outputs": [],
   "source": [
    "# Here we define the steady state equation\n",
    "ss = sm.Eq(k,(s*B*k**alpha+(1-delta)*k)/((1+n)))"
   ]
  },
  {
   "cell_type": "code",
   "execution_count": 34,
   "metadata": {},
   "outputs": [
    {
     "data": {
      "text/latex": [
       "$\\displaystyle \\left(\\frac{B s}{\\delta + n}\\right)^{- \\frac{1}{\\alpha - 1}}$"
      ],
      "text/plain": [
       "(B*s/(delta + n))**(-1/(alpha - 1))"
      ]
     },
     "execution_count": 34,
     "metadata": {},
     "output_type": "execute_result"
    }
   ],
   "source": [
    "#Then we solve the steady state equation\n",
    "kss = sm.solve(ss,k)[0]\n",
    "kss"
   ]
  },
  {
   "cell_type": "code",
   "execution_count": 6,
   "metadata": {},
   "outputs": [],
   "source": [
    "# The code below saves our soloution as a function which will be handy later \n",
    "ss_func = sm.lambdify((s,B,n,alpha,delta),kss)"
   ]
  },
  {
   "cell_type": "markdown",
   "metadata": {},
   "source": [
    "## Numerical solution"
   ]
  },
  {
   "cell_type": "markdown",
   "metadata": {},
   "source": [
    "When the numerical solution is done we have to choose some values for our parameters, we have chosen ones that we find reasonable:"
   ]
  },
  {
   "cell_type": "code",
   "execution_count": 7,
   "metadata": {},
   "outputs": [],
   "source": [
    "# Setting values for our parameters:\n",
    "s = 0.2\n",
    "B = 1\n",
    "n = 0.01\n",
    "alpha = 1/3\n",
    "delta = 0.1"
   ]
  },
  {
   "cell_type": "markdown",
   "metadata": {},
   "source": [
    "When we want to find the steady state level of capital we examine the following equation:\n",
    "$$ 0 = k - \\frac{1}{1+n}(sBk^\\alpha+(1-\\delta)k)$$\n",
    "What the optimizer then does it try to numerically find a k that solves this equation, we use the method called bisect which we will explain after the optimizer."
   ]
  },
  {
   "cell_type": "code",
   "execution_count": 8,
   "metadata": {},
   "outputs": [],
   "source": [
    "from scipy import optimize\n",
    "# This peace of code makes a function that can numerically solve for steady state for our given model.\n",
    "# We give this function our parameters and then it gives us the steady state level of capital.\n",
    "def solve_for_ss(s,B,n,alpha,delta):\n",
    "    \"\"\"Args:\n",
    "        s (float): saving rate\n",
    "        B (float): Technology level\n",
    "        n (float): population growth rate\n",
    "        alpha (float): cobb-douglas parameter\n",
    "        delta (float): capital depreciation rate \n",
    "\n",
    "    Returns:\n",
    "        result (RootResults): The steady state level of capital\n",
    "    \"\"\" \n",
    "    \n",
    "    # a. define objective function\n",
    "    f = lambda k: k**alpha\n",
    "    # \n",
    "    obj_kss = lambda kss: kss - (s*B*f(kss) + (1-delta)*kss)/((1+n))\n",
    "\n",
    "    #. b. call root finder\n",
    "    result = optimize.root_scalar(obj_kss,bracket=[0.1,100],method='bisect')\n",
    "    \n",
    "    return result"
   ]
  },
  {
   "cell_type": "markdown",
   "metadata": {},
   "source": [
    "We have used the algorythm \"bisect\" to do this optimisation. The bisect method works the following way, the algorythm chooses 2 values of x, a and b. When it chooses these values it makes sure that f(a) and f(b) has different signs. Then it figures out what the middlepoint between a and b are by doing $  m_0 = \\frac{a+b}{2} $ whereafter it checks the sign of $m_0$. After this if f(a) and f($m_0$) has different signs then the next interval it examines will be $[a,m_0]$. If this is not the case it does the same thing with f(b) and f($m_0$). It keeps doing this same thing until f($m_0$) is sufficiently close to 0. "
   ]
  },
  {
   "cell_type": "markdown",
   "metadata": {},
   "source": [
    "We have tried to plot this below. Lets say we want to find the roots of the polyonomial below. What the algoryhthm then does is it chooses an a and a b for example a=-13 and b=-5. These values are depicted in the picture as the green vertical lines notice that f(a) and f(b) do have different signs. The algorythm then calculates that $m_0=-9$ which is depicted with the vertical yellow line. The next interval the algorythm will examine will then be between a=-13 and $m_0$=-9 since f(a) and f($m_0$) have different signs, while f(b) and f($m_0$) are both negative values which leads to this interval being discarded. "
   ]
  },
  {
   "cell_type": "code",
   "execution_count": 9,
   "metadata": {},
   "outputs": [
    {
     "data": {
      "image/png": "[encoded data removed]",
      "text/plain": [
       "<Figure size 432x288 with 1 Axes>"
      ]
     },
     "metadata": {},
     "output_type": "display_data"
    }
   ],
   "source": [
    "# Choosing the x and y intervals and creating the function\n",
    "x = np.linspace(-15,15,400)\n",
    "y = x**2-100\n",
    "# Plotting the axes\n",
    "plt.axhline(y=0, color='r', linestyle='-')\n",
    "plt.axvline(x=0, color='r')\n",
    "# Plotting a and b\n",
    "plt.axvline(x=-13, color='g')\n",
    "plt.axvline(x=-5, color='g')\n",
    "# Plotting m_0\n",
    "plt.axvline(x=-9, color='y')\n",
    "# Creating the plot:\n",
    "plt.plot(x,y)\n",
    "plt.show()"
   ]
  },
  {
   "cell_type": "markdown",
   "metadata": {},
   "source": [
    "The next thing we do is call the function and check the solution."
   ]
  },
  {
   "cell_type": "code",
   "execution_count": 10,
   "metadata": {},
   "outputs": [
    {
     "data": {
      "text/plain": [
       "      converged: True\n",
       "           flag: 'converged'\n",
       " function_calls: 48\n",
       "     iterations: 46\n",
       "           root: 2.4516358635037063"
      ]
     },
     "execution_count": 10,
     "metadata": {},
     "output_type": "execute_result"
    }
   ],
   "source": [
    "solve_for_ss(s,B,n,alpha,delta)"
   ]
  },
  {
   "cell_type": "markdown",
   "metadata": {},
   "source": [
    "We see that our function has done 46 iterations which means it has redone the procedure above 46 times, and called the function 48 times. This is perfectly in line with what we imagine with 46 iterations it has to check f(a), f(b) and then it checks f($m_0$) 46 times which gives 48 function calls.\n",
    "We now check wether this solution is the same as the one we would find analytically:"
   ]
  },
  {
   "cell_type": "code",
   "execution_count": 11,
   "metadata": {},
   "outputs": [
    {
     "name": "stdout",
     "output_type": "stream",
     "text": [
      " numerical solution is: 2.452\n",
      "analytical solution is: 2.452\n"
     ]
    }
   ],
   "source": [
    "solution = solve_for_ss(s,B,n,alpha,delta)\n",
    "print(f' numerical solution is: {solution.root:.3f}')\n",
    "print(f'analytical solution is: {ss_func(s,B,n,alpha,delta):.3f}')"
   ]
  },
  {
   "cell_type": "markdown",
   "metadata": {},
   "source": [
    "We luckily find that the numerical and analytical solution is the same."
   ]
  },
  {
   "cell_type": "markdown",
   "metadata": {},
   "source": [
    "## Graphical representation"
   ]
  },
  {
   "cell_type": "markdown",
   "metadata": {},
   "source": [
    "We would like to see the transition diagram, to see the transition towards steady state. We would also like to examine what happens if we change the savings rate s. "
   ]
  },
  {
   "cell_type": "code",
   "execution_count": 12,
   "metadata": {},
   "outputs": [],
   "source": [
    "# First we make a function that calculates capital in period 1 when we have capital in period 0. \n",
    "def transition(k,s,B,n,alpha, delta):\n",
    "    \"\"\"\n",
    "    Returns:\n",
    "    k1(float) capital in the next period\n",
    "    \n",
    "    Args:\n",
    "    k (float): Initial stock of capital\n",
    "    B (float): Technology level\n",
    "    s (float): The savings rate\n",
    "    alpha (float): cobb-douglas parameter\n",
    "    delta (float): capital depreciation rate \n",
    "    n (float): Population growth \n",
    "    \n",
    "    \"\"\"\n",
    "    # Calculating capital in period 1\n",
    "    k1 = (s*B*k**alpha+(1-delta)*k)/((1+n))\n",
    "    return k1"
   ]
  },
  {
   "cell_type": "markdown",
   "metadata": {},
   "source": [
    "We now want to store capital for each period which we can do by calculating them one after another and putting them in an array:"
   ]
  },
  {
   "cell_type": "code",
   "execution_count": 13,
   "metadata": {},
   "outputs": [],
   "source": [
    "def transition_curve(k,s,B,n,alpha, delta,T=1000,k_min=1e-20,k_max=6):\n",
    "    \"\"\"\n",
    "    Returns:\n",
    "    k_1(array): Array of capital in period 1\n",
    "    k_2(array): Array of capital in period 2\n",
    "    \n",
    "    Args:\n",
    "    k (float): Initial stock of capital\n",
    "    B (float): Technology level\n",
    "    s (float): The savings rate\n",
    "    alpha (float): cobb-douglas parameter\n",
    "    delta (float): capital depreciation rate \n",
    "    n (float): Population growth \n",
    "    \n",
    "    output: \n",
    "    For every value of capital computes the value of capital in the next period using the transition equation. \n",
    "    \"\"\"\n",
    "    \n",
    "    #grids\n",
    "    k_1 = np.linspace(k_min,k_max,T)\n",
    "    k_1 = np.linspace(1e-20,6,T)\n",
    "    k_2 = np.empty(T)\n",
    "    \n",
    "    #construct array of \"tomorrows\" capital\n",
    "    for i,k in enumerate(k_1):\n",
    "        k_plus = transition(k,s,B,n,alpha, delta)\n",
    "        k_2[i] = k_plus\n",
    "        \n",
    "    return k_1, k_2"
   ]
  },
  {
   "cell_type": "markdown",
   "metadata": {},
   "source": [
    "Atlast we want to draw the figure with a widget and for this reason we make a function that draws the transition diagram depending on s."
   ]
  },
  {
   "cell_type": "code",
   "execution_count": 14,
   "metadata": {},
   "outputs": [
    {
     "data": {
      "application/vnd.jupyter.widget-view+json": {
       "model_id": "e9b6fe3e36374979bae1f09d53da87d9",
       "version_major": 2,
       "version_minor": 0
      },
      "text/plain": [
       "interactive(children=(FloatSlider(value=0.5, description='s', max=1.0, step=0.01), Output()), _dom_classes=('w…"
      ]
     },
     "metadata": {},
     "output_type": "display_data"
    }
   ],
   "source": [
    "def fig(s):\n",
    "    \"\"\"\n",
    "    Returns:\n",
    "    Plots the transition curve\n",
    "    \n",
    "    Args:\n",
    "    s: savings rate\n",
    "    \"\"\"\n",
    "    #parameters\n",
    "    alpha = 1/3\n",
    "    s = s\n",
    "    B = 1\n",
    "    n = 0.2\n",
    "    delta = 0.2\n",
    "    #transition curve\n",
    "    k_1, k_2 = transition_curve(k,s,B,n,alpha, delta,T=1000,k_min=1e-20,k_max=6)\n",
    "    \n",
    "    fig = plt.figure()\n",
    "    ax = fig.add_subplot(1,1,1)\n",
    "    ax.plot(k_1,k_2, label=\"Transition curve\") #transition curve\n",
    "    ax.plot(k_1,k_1, '--', color='grey',label=\"45 degree\") #45 degree line\n",
    "    ax.set_xlabel('$k_t$')\n",
    "    ax.set_ylabel('$k_t+1$')\n",
    "    ax.set_title('Transition curve')\n",
    "    ax.legend()\n",
    "    ax.set_xlim([0,4])\n",
    "    ax.set_ylim([0,4]);\n",
    "    return\n",
    "# Making the widget:\n",
    "import ipywidgets as widgets\n",
    "widgets.interact(fig, \n",
    "    s = widgets.FloatSlider(description='s', min=0, max=1, step=0.01, value=0.5),\n",
    ");"
   ]
  },
  {
   "cell_type": "markdown",
   "metadata": {},
   "source": [
    "# Model extensions"
   ]
  },
  {
   "cell_type": "markdown",
   "metadata": {},
   "source": [
    "We would like to specify the model so that it better fits Denmark. We do this by converting the model into a solowmodel on a small open economy. The new model is similar to the old model in a lot of ways, but some changes are made. In an open economy it is assumed that there is capital movements are free which means that the rate cannot differ between countries. When we assume that it is a small economy, we also assume that the economy cannot affect the global rental rate. "
   ]
  },
  {
   "cell_type": "markdown",
   "metadata": {},
   "source": [
    "The equation system that this new model is characterised by is the following:\n",
    "\n",
    "$$ Y_t = BK_t^\\alpha L_t^{1-\\alpha}$$\n",
    "$$ L_{t+1} = (1+n) L_t $$\n",
    "$$ S_t = sY_t,\\,s\\in(0,1) $$\n",
    "\n",
    "In this model we have to define wealth which we name V and F is receivables:\n",
    "\n",
    "$$ V_t = K_t + F_t $$\n",
    "\n",
    "The reason for the creation of the wealth value is that we there is no steady state in capital pr. worker since capital no longer is accumelated. Instead we can examine the transition equation in wealth:\n",
    "\n",
    "$$ v_{t+1} = \\frac{sw*}{1+n}+\\frac{1+s\\bar{r}}{1+n}v_t $$\n",
    "\n",
    "Where w and r are defined as in the beginning which means:\n",
    "$$\\bar{r} = \\alpha B \\big(\\frac{K_t}{L_t}\\big)^{\\alpha-1}$$\n",
    "$$w* = (1-\\alpha) B \\big(\\frac{K_t}{L_t}\\big)^{\\alpha}$$\n",
    "\n",
    "The equation for the rate ensures that:\n",
    "$$ k_t = k* $$\n",
    "Which means that the rate and the wage always is in steady state.\n",
    "\n",
    "In this model we also have the national income which is the income of the country plus the income you get from recievables from foreign countries:\n",
    "$$ Y_t^n = Y_t + \\bar{r}F_t$$"
   ]
  },
  {
   "cell_type": "markdown",
   "metadata": {},
   "source": [
    "At first we want to solve the model, and we do it both numerically and analytically:"
   ]
  },
  {
   "cell_type": "markdown",
   "metadata": {},
   "source": [
    "## Analytical solution:"
   ]
  },
  {
   "cell_type": "markdown",
   "metadata": {},
   "source": [
    "First of all we again define our variables/symbols, and we also define the steady state equation"
   ]
  },
  {
   "cell_type": "code",
   "execution_count": 15,
   "metadata": {},
   "outputs": [],
   "source": [
    "# Defining our symbols:\n",
    "v = sm.symbols('v')\n",
    "alpha = sm.symbols('alpha')\n",
    "delta = sm.symbols('delta')\n",
    "s = sm.symbols('s')\n",
    "n = sm.symbols('n')\n",
    "B = sm.symbols('B')\n",
    "k = sm.symbols('k')\n",
    "w = sm.symbols('w')\n",
    "r = sm.symbols('r')\n",
    "# Creating the steady state equation:\n",
    "ssopen = sm.Eq(v,(s*w/(1+n))+((1-delta+s*r)/(1+n))*v)"
   ]
  },
  {
   "cell_type": "markdown",
   "metadata": {},
   "source": [
    "We solve the model:"
   ]
  },
  {
   "cell_type": "code",
   "execution_count": 16,
   "metadata": {},
   "outputs": [
    {
     "data": {
      "text/latex": [
       "$\\displaystyle \\frac{s w}{\\delta + n - r s}$"
      ],
      "text/plain": [
       "s*w/(delta + n - r*s)"
      ]
     },
     "execution_count": 16,
     "metadata": {},
     "output_type": "execute_result"
    }
   ],
   "source": [
    "# Solving the model:\n",
    "vss = sm.solve(ssopen,v)[0]\n",
    "# Saving the solution:\n",
    "ssopen_func = sm.lambdify((s,B,n,r,k,w,alpha,delta),vss)\n",
    "# Displaying the analytical solution solution:\n",
    "vss"
   ]
  },
  {
   "cell_type": "markdown",
   "metadata": {},
   "source": [
    "## Numerical soltution:"
   ]
  },
  {
   "cell_type": "markdown",
   "metadata": {},
   "source": [
    "We again define our parameter values:"
   ]
  },
  {
   "cell_type": "code",
   "execution_count": 17,
   "metadata": {},
   "outputs": [],
   "source": [
    "s = 0.2\n",
    "B = 1\n",
    "n = 0.01\n",
    "k= 2\n",
    "alpha = 1/3\n",
    "delta = 0.1\n",
    "w = (1-alpha)*B*k**alpha\n",
    "r = alpha*B*k**(alpha-1)"
   ]
  },
  {
   "cell_type": "code",
   "execution_count": 18,
   "metadata": {},
   "outputs": [],
   "source": [
    "# Here we practically do the same as before we create a function that solves our model using the bisect method:\n",
    "def solve_for_ssopen(s,B,n,k, alpha,delta):\n",
    "    \"\"\" solve for the steady state level of capital\n",
    "\n",
    "    Args:\n",
    "        s (float): saving rate\n",
    "        B (float): Technology level\n",
    "        n (float): population growth rate\n",
    "        k (float): Capital pr. worker\n",
    "        alpha (float): cobb-douglas parameter\n",
    "        delta (float): capital depreciation rate \n",
    "\n",
    "    Returns:\n",
    "        result (RootResults): The steady state wealth pr. worker in the economy\n",
    "\n",
    "    \"\"\" \n",
    "    \n",
    "    # a. define objective function\n",
    "    obj_vss = lambda vss: vss - ((s*w/(1+n))+((1-delta+s*r)/(1+n))*vss)\n",
    "\n",
    "    #. b. call root finder\n",
    "    result = optimize.root_scalar(obj_vss,bracket=[0.1,100],method='bisect')\n",
    "    \n",
    "    return result"
   ]
  },
  {
   "cell_type": "markdown",
   "metadata": {},
   "source": [
    "We then check if our analytical solution and or numerical solution is the same:"
   ]
  },
  {
   "cell_type": "code",
   "execution_count": 19,
   "metadata": {},
   "outputs": [
    {
     "name": "stdout",
     "output_type": "stream",
     "text": [
      " numerical solution is: 2.470\n",
      "analytical solution is: 2.470\n"
     ]
    }
   ],
   "source": [
    "solution = solve_for_ssopen(s,B,n,k,alpha,delta)\n",
    "print(f' numerical solution is: {solution.root:.3f}')\n",
    "print(f'analytical solution is: {ssopen_func(s,B,n,r,k,w,alpha,delta):.3f}')"
   ]
  },
  {
   "cell_type": "markdown",
   "metadata": {},
   "source": [
    "We luckily find that they match up."
   ]
  },
  {
   "cell_type": "markdown",
   "metadata": {},
   "source": [
    "## Benefits of opening up a closed economy:"
   ]
  },
  {
   "cell_type": "markdown",
   "metadata": {},
   "source": [
    "We now want to examine what happens if a closed economy opens up. We will do this by looking at our first model and then examining what happens if we change it to the second one. The most interesting variabel to do the comparrison on is output pr. worker. Therefore we calculate the output pr. worker in steady state of our first model and compare it to the output pr. worker in an open economy with the same parameters. We can then examine whether there is welfare gain connected to opening an economy."
   ]
  },
  {
   "cell_type": "markdown",
   "metadata": {},
   "source": [
    "In the simple model output pr. worker is $$y_t = B k_t^\\alpha $$"
   ]
  },
  {
   "cell_type": "code",
   "execution_count": 20,
   "metadata": {},
   "outputs": [],
   "source": [
    "# Setting values for our parameters:\n",
    "s = 0.2\n",
    "B = 1\n",
    "n = 0.01\n",
    "alpha = 1/3\n",
    "delta = 0.1\n",
    "# we also define k as the one we calculated in the original model\n",
    "k = 2.452"
   ]
  },
  {
   "cell_type": "markdown",
   "metadata": {},
   "source": [
    "In the simple model output pr. worker is $$y_t = B k_t^\\alpha $$\n",
    "We also remember that we can calculate the rate and the wage the following way: \n",
    "$$r_t = \\alpha B \\big(\\frac{K_t}{L_t}\\big)^{\\alpha-1}$$\n",
    "$$w_t = (1-\\alpha) B \\big(\\frac{K_t}{L_t}\\big)^{\\alpha}$$"
   ]
  },
  {
   "cell_type": "markdown",
   "metadata": {},
   "source": [
    "We can through this calculate the steady state values for the original closed economy. "
   ]
  },
  {
   "cell_type": "code",
   "execution_count": 21,
   "metadata": {},
   "outputs": [
    {
     "name": "stdout",
     "output_type": "stream",
     "text": [
      " Output pr. worker in the closed economy is: 1.348399724926484\n",
      " The rental rate in the closed economy is: 0.1833151821614239\n",
      " The wage in the closed economy is: 0.898977653319623\n"
     ]
    }
   ],
   "source": [
    "print(f' Output pr. worker in the closed economy is: {B*ss_func(s,B,n,alpha,delta)**alpha}') \n",
    "print(f' The rental rate in the closed economy is: {alpha*B*k**(alpha-1)}')\n",
    "print(f' The wage in the closed economy is: {(1-alpha)*B*k**(alpha)}')"
   ]
  },
  {
   "cell_type": "markdown",
   "metadata": {},
   "source": [
    "When a small closed economy is opened the rate will instantaniously adapt and become equal to the rental rate of the outside world. This means that our examination depends on what the rate of the outside world is at the point of opening the economy. In our model the adaption time is almost instant, if we open the economy in period 0 then the economy is back in steady state in period 1. "
   ]
  },
  {
   "cell_type": "markdown",
   "metadata": {},
   "source": [
    "We calculate the national output given the rate through a funciton:"
   ]
  },
  {
   "cell_type": "code",
   "execution_count": 22,
   "metadata": {},
   "outputs": [],
   "source": [
    "# Defining a function that can calculate the national output given the rate:\n",
    "def national_output_calc(s,B,n,alpha,delta,r):\n",
    "    k = ((B*alpha)/r)**(1/(1-alpha))\n",
    "    w = (1-alpha)*B**(1/(1-alpha))*(alpha/r)**(alpha/(1-alpha))\n",
    "    v = (s*w)/(n+delta-s*r)\n",
    "    y = w + r*v\n",
    "    return y"
   ]
  },
  {
   "cell_type": "markdown",
   "metadata": {},
   "source": [
    "Now we draw the function defined above, so that we can examine what the nation income pr. worker is given different rates in the outside world. In the plot we also put a vertical line for the rate of the closed economy and a horisental line for the old level of output pr. worker."
   ]
  },
  {
   "cell_type": "code",
   "execution_count": 23,
   "metadata": {},
   "outputs": [
    {
     "data": {
      "image/png": "[encoded data removed]",
      "text/plain": [
       "<Figure size 432x288 with 1 Axes>"
      ]
     },
     "metadata": {},
     "output_type": "display_data"
    }
   ],
   "source": [
    "# 100 linearly spaced numbers\n",
    "x = np.linspace(0.05,0.4,100)\n",
    "\n",
    "# Define the function we want to be drawn\n",
    "y = national_output_calc(s,B,n,alpha,delta,x)\n",
    "\n",
    "# Creating the plot\n",
    "fig = plt.figure()\n",
    "ax = fig.add_subplot(1, 1, 1)\n",
    "# Plotting vertical and horisontal line\n",
    "plt.axhline(y=B*ss_func(s,B,n,alpha,delta)**alpha, color='g')\n",
    "plt.axvline(x=alpha*B*k**(alpha-1))\n",
    "# plot the function\n",
    "plt.plot(x,y, 'r')\n",
    "\n",
    "# show the plot\n",
    "plt.show()"
   ]
  },
  {
   "cell_type": "markdown",
   "metadata": {},
   "source": [
    "We see from the graph that there is welfare gains connected to opening up the economy. In case of domestic rate being equal to the rate foreign the output pr. worker is unchanged but in all other cases there is welfare gains."
   ]
  },
  {
   "cell_type": "markdown",
   "metadata": {},
   "source": [
    "# Conclusion"
   ]
  },
  {
   "cell_type": "markdown",
   "metadata": {},
   "source": [
    "The conclusion of this project is that closed economies will experience an increase in the output pr. worker by opening the economy as long as the domestic interest rate is not equal to the foreign interest rate. "
   ]
  },
  {
   "cell_type": "code",
   "execution_count": null,
   "metadata": {},
   "outputs": [],
   "source": []
  }
 ],
 "metadata": {
  "kernelspec": {
   "display_name": "Python 3",
   "language": "python",
   "name": "python3"
  },
  "language_info": {
   "codemirror_mode": {
    "name": "ipython",
    "version": 3
   },
   "file_extension": ".py",
   "mimetype": "text/x-python",
   "name": "python",
   "nbconvert_exporter": "python",
   "pygments_lexer": "ipython3",
   "version": "3.8.5"
  }
 },
 "nbformat": 4,
 "nbformat_minor": 4
}
