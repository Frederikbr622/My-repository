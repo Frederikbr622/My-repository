{
 "cells": [
  {
   "cell_type": "markdown",
   "metadata": {},
   "source": [
    "# Model Project"
   ]
  },
  {
   "cell_type": "code",
   "execution_count": 1,
   "metadata": {},
   "outputs": [],
   "source": [
    "import numpy as np\n",
    "from scipy import linalg\n",
    "from scipy import optimize\n",
    "import sympy as sm\n",
    "import matplotlib.pyplot as plt\n",
    "plt.style.use('seaborn')"
   ]
  },
  {
   "cell_type": "code",
   "execution_count": 2,
   "metadata": {},
   "outputs": [],
   "source": [
    "import numpy as np\n",
    "import scipy as sp\n",
    "from scipy import linalg\n",
    "from scipy import optimize\n",
    "from scipy import interpolate\n",
    "import sympy as sm\n",
    "\n",
    "%matplotlib inline\n",
    "import matplotlib.pyplot as plt\n",
    "plt.style.use('seaborn-whitegrid')\n",
    "from matplotlib import cm\n",
    "from mpl_toolkits.mplot3d import Axes3D"
   ]
  },
  {
   "cell_type": "markdown",
   "metadata": {},
   "source": [
    "# Model description"
   ]
  },
  {
   "cell_type": "markdown",
   "metadata": {},
   "source": [
    "We consider a solow model for a closed economy with no growth in technology: \n",
    "\n",
    "* $K_t$ is capital\n",
    "* $L_t$ is labor (growing with a constant rate of $n$)\n",
    "* $Y_t = F(K_t,L_t)$ is GDP\n",
    "\n",
    "We have the following equations:\n",
    "\n",
    "$$Y_t = BK_t^\\alpha L_t^{1-\\alpha}$$\n",
    "$$L_{t+1} = (1+n) L_t$$\n",
    "\n",
    "**Saving** can be defined as the following fraction:\n",
    "\n",
    "$$ S_t = sY_t,\\,s\\in(0,1) $$\n",
    "\n",
    "These equations imply that the rate and the wage is the following:\n",
    "\n",
    "$$r_t = \\alpha B \\big(\\frac{K_t}{L_t}\\big)^{\\alpha-1}$$\n",
    "$$w_t = (1-\\alpha) B \\big(\\frac{K_t}{L_t}\\big)^{\\alpha}$$\n",
    "\n",
    "Capital accumulation is therefore:\n",
    "\n",
    "$$K_{t+1}= K_t + I_t-\\delta K_t$$\n",
    "\n",
    "$k_t$ can be defined as:\n",
    "\n",
    "$$k_t = \\frac{K_t}{Y_t}$$\n",
    "\n",
    "Using the intertemporal budget constraint it is possible to show that the transition equation is:\n",
    "\n",
    "$$ k_{t+1} = \\frac{1}{1+n}(sBk_t^\\alpha+(1-\\delta)k_t)$$"
   ]
  },
  {
   "cell_type": "markdown",
   "metadata": {},
   "source": [
    "# Steady state"
   ]
  },
  {
   "cell_type": "markdown",
   "metadata": {},
   "source": [
    "## Analytical solution"
   ]
  },
  {
   "cell_type": "markdown",
   "metadata": {},
   "source": [
    "In a standard solowmodel there is only a steady state in pr. capita values. In the transition equation we set $k_{t+1} = k_t = k$ and by doing that we get the steady state values for $y_t$ and $k_t$.\n",
    "$$ k = \\frac{1}{1+n}(sBk^\\alpha+(1-\\delta)k)$$"
   ]
  },
  {
   "cell_type": "code",
   "execution_count": 3,
   "metadata": {},
   "outputs": [],
   "source": [
    "k = sm.symbols('k')\n",
    "alpha = sm.symbols('alpha')\n",
    "delta = sm.symbols('delta')\n",
    "s = sm.symbols('s')\n",
    "n = sm.symbols('n')\n",
    "B = sm.symbols('B')"
   ]
  },
  {
   "cell_type": "code",
   "execution_count": 4,
   "metadata": {},
   "outputs": [],
   "source": [
    "ss = sm.Eq(k,(s*B*k**alpha+(1-delta)*k)/((1+n)))"
   ]
  },
  {
   "cell_type": "code",
   "execution_count": 5,
   "metadata": {},
   "outputs": [
    {
     "data": {
      "text/latex": [
       "$\\displaystyle \\left(\\frac{B s}{\\delta + n}\\right)^{- \\frac{1}{\\alpha - 1}}$"
      ],
      "text/plain": [
       "(B*s/(delta + n))**(-1/(alpha - 1))"
      ]
     },
     "execution_count": 5,
     "metadata": {},
     "output_type": "execute_result"
    }
   ],
   "source": [
    "kss = sm.solve(ss,k)[0]\n",
    "kss"
   ]
  },
  {
   "cell_type": "code",
   "execution_count": 6,
   "metadata": {},
   "outputs": [],
   "source": [
    "ss_func = sm.lambdify((s,B,n,alpha,delta),kss)"
   ]
  },
  {
   "cell_type": "markdown",
   "metadata": {},
   "source": [
    "## Numerical solution"
   ]
  },
  {
   "cell_type": "code",
   "execution_count": 7,
   "metadata": {},
   "outputs": [],
   "source": [
    "s = 0.2\n",
    "B = 1\n",
    "n = 0.01\n",
    "alpha = 1/3\n",
    "delta = 0.1"
   ]
  },
  {
   "cell_type": "code",
   "execution_count": 58,
   "metadata": {},
   "outputs": [],
   "source": [
    "from scipy import optimize\n",
    "\n",
    "def solve_for_ss(s,B,n,alpha,delta):\n",
    "    \"\"\" solve for the steady state level of capital\n",
    "\n",
    "    Args:\n",
    "        s (float): saving rate\n",
    "        n (float): population growth rate\n",
    "        alpha (float): cobb-douglas parameter\n",
    "        delta (float): capital depreciation rate \n",
    "\n",
    "    Returns:\n",
    "        result (RootResults): the solution represented as a RootResults object\n",
    "\n",
    "    \"\"\" \n",
    "    \n",
    "    # a. define objective function\n",
    "    f = lambda k: k**alpha\n",
    "    obj_kss = lambda kss: kss - (s*B*f(kss) + (1-delta)*kss)/((1+n))\n",
    "\n",
    "    #. b. call root finder\n",
    "    result = optimize.root_scalar(obj_kss,bracket=[0.1,100],method='bisect')\n",
    "    \n",
    "    return result"
   ]
  },
  {
   "cell_type": "code",
   "execution_count": 60,
   "metadata": {},
   "outputs": [
    {
     "name": "stdout",
     "output_type": "stream",
     "text": [
      " numerical solution is: 2.452\n",
      "analytical solution is: 2.452\n"
     ]
    }
   ],
   "source": [
    "solution = solve_for_ss(s,B,n,alpha,delta)\n",
    "print(f' numerical solution is: {solution.root:.3f}')\n",
    "print(f'analytical solution is: {ss_func(s,B,n,alpha,delta):.3f}')"
   ]
  },
  {
   "cell_type": "code",
   "execution_count": 10,
   "metadata": {},
   "outputs": [
    {
     "data": {
      "text/plain": [
       "      converged: True\n",
       "           flag: 'converged'\n",
       " function_calls: 48\n",
       "     iterations: 46\n",
       "           root: 2.4516358635037063"
      ]
     },
     "execution_count": 10,
     "metadata": {},
     "output_type": "execute_result"
    }
   ],
   "source": [
    "solve_for_ss(s,B,n,alpha,delta)"
   ]
  },
  {
   "cell_type": "markdown",
   "metadata": {},
   "source": [
    "## Graphical representation"
   ]
  },
  {
   "cell_type": "code",
   "execution_count": 11,
   "metadata": {},
   "outputs": [],
   "source": [
    "def transition(k,s,B,n,alpha, delta):\n",
    "    \"\"\"\n",
    "    Returns:\n",
    "    k1(float) capital in the next period\n",
    "    \n",
    "    Args:\n",
    "    k (float): Initial stock of capital\n",
    "    alpha (float): Capital income share.\n",
    "    rho (float): Timepreference parameter\n",
    "    n (float): Population growth\n",
    "    \n",
    "    output: \n",
    "    Computes the wage rate, optimal savings and capital in next period. \n",
    "    \n",
    "    \"\"\"\n",
    "    # Raise ValueErrors\n",
    "    if n>1:\n",
    "        raise ValueError(\"Population growth cannot exceed 1\")\n",
    "    if alpha>1: \n",
    "        raise ValueError(\"Capital income share cannot exceed 1\")\n",
    "\n",
    "    k1 = (s*B*k**alpha+(1-delta)*k)/((1+n))\n",
    "    return k1"
   ]
  },
  {
   "cell_type": "code",
   "execution_count": 12,
   "metadata": {},
   "outputs": [],
   "source": [
    "def transition_curve(k,s,B,n,alpha, delta,T=1000,k_min=1e-20,k_max=6):\n",
    "    \"\"\"\n",
    "    Returns:\n",
    "    k_1(array): Array of capital in period 1\n",
    "    k_2(array): Array of capital in period 2\n",
    "    \n",
    "    Args:\n",
    "    alpha (float): Capital income share\n",
    "    rho (float): Timepreference parameter\n",
    "    n (float): Population growth\n",
    "    T (int): Number of periods. Default 1000 periods.\n",
    "    k_min (float): Minimum capital value. Default 1e-20.\n",
    "    k_max (float): Maximum capital value. Default 6.\n",
    "    \n",
    "    output: \n",
    "    For every value of capital computes the value of capital in the next period using the transition equation. \n",
    "    \"\"\"\n",
    "    \n",
    "    if n>1:\n",
    "        raise ValueError(\"Population growth cannot exceed 1\")\n",
    "    if alpha>1: \n",
    "        raise ValueError(\"Capital income share cannot exceed 1\")\n",
    "    \n",
    "    #grids\n",
    "    k_1 = np.linspace(k_min,k_max,T)\n",
    "    k_1 = np.linspace(1e-20,6,T)\n",
    "    k_2 = np.empty(T)\n",
    "    \n",
    "    #construct array of \"tomorrows\" capital\n",
    "    for i,k in enumerate(k_1):\n",
    "        k_plus = transition(k,s,B,n,alpha, delta)\n",
    "        k_2[i] = k_plus\n",
    "        \n",
    "    return k_1, k_2"
   ]
  },
  {
   "cell_type": "code",
   "execution_count": 13,
   "metadata": {},
   "outputs": [
    {
     "data": {
      "application/vnd.jupyter.widget-view+json": {
       "model_id": "763bca3f076e4a5e92f6370491db3aa3",
       "version_major": 2,
       "version_minor": 0
      },
      "text/plain": [
       "interactive(children=(FloatSlider(value=0.5, description='s', max=1.0, step=0.01), Output()), _dom_classes=('w…"
      ]
     },
     "metadata": {},
     "output_type": "display_data"
    }
   ],
   "source": [
    "def fig(s):\n",
    "    \"\"\"\n",
    "    Returns:\n",
    "    Plots the transition curve\n",
    "    \n",
    "    Args:\n",
    "    rho(float): Timepreference parameter\n",
    "    \"\"\"\n",
    "    #parameters\n",
    "    alpha = 1/3\n",
    "    s = s\n",
    "    B = 1\n",
    "    n = 0.2\n",
    "    delta = 0.2\n",
    "    #transition curve\n",
    "    k_1, k_2 = transition_curve(k,s,B,n,alpha, delta,T=1000,k_min=1e-20,k_max=6)\n",
    "    \n",
    "    fig = plt.figure()\n",
    "    ax = fig.add_subplot(1,1,1)\n",
    "    ax.plot(k_1,k_2, label=\"Transition curve\") #transition curve\n",
    "    ax.plot(k_1,k_1, '--', color='grey',label=\"45 degree\") #45 degree line\n",
    "    ax.set_xlabel('$k_t$')\n",
    "    ax.set_ylabel('$k_t+1$')\n",
    "    ax.set_title('Transition curve')\n",
    "    ax.legend()\n",
    "    ax.set_xlim([0,4])\n",
    "    ax.set_ylim([0,4]);\n",
    "    return\n",
    "\n",
    "import ipywidgets as widgets\n",
    "widgets.interact(fig, \n",
    "    s = widgets.FloatSlider(description='s', min=0, max=1, step=0.01, value=0.5),\n",
    ");"
   ]
  },
  {
   "cell_type": "markdown",
   "metadata": {},
   "source": [
    "# Model extensions"
   ]
  },
  {
   "cell_type": "markdown",
   "metadata": {},
   "source": [
    "We would like to specify the model so that it better fits Denmark. We do this by converting the model into a solowmodel on a small open economy. The new model is similar to the old model in a lot of ways, but some changes are made. In an open economy it is assumed that there is capital movements are free which means that the rate cannot differ between countries. When we assume that it is a small economy, we also assume that the economy cannot affect the global rental rate. "
   ]
  },
  {
   "cell_type": "markdown",
   "metadata": {},
   "source": [
    "The equation system that this new model is characterised by is the following:\n",
    "\n",
    "$$ Y_t = BK_t^\\alpha L_t^{1-\\alpha}$$\n",
    "$$L_{t+1} = (1+n) L_t$$\n",
    "$$ S_t = sY_t,\\,s\\in(0,1) $$\n",
    "\n",
    "In this model we have to define wealth which we name V and F is receivables:\n",
    "\n",
    "$$ V_t = K_t + F_t $$\n",
    "\n",
    "The reason for the creation of the wealth value is that we there is no steady state in capital pr. worker since capital no longer is accumelated. Instead we can examine the transition equation in wealth:\n",
    "\n",
    "$$ v_{t+1} = \\frac{sw*}{1+n}+\\frac{1+s\\bar{r}}{1+n}v_t $$\n",
    "\n",
    "Where w and r are defined as in the beginning which means:\n",
    "$$\\bar{r} = \\alpha B \\big(\\frac{K_t}{L_t}\\big)^{\\alpha-1}$$\n",
    "$$w* = (1-\\alpha) B \\big(\\frac{K_t}{L_t}\\big)^{\\alpha}$$\n",
    "\n",
    "The equation for the rate ensures that:\n",
    "$$ k_t = k* $$\n",
    "Which means that the rate and the wage always is in steady state."
   ]
  },
  {
   "cell_type": "code",
   "execution_count": 14,
   "metadata": {},
   "outputs": [],
   "source": [
    "v = sm.symbols('v')\n",
    "alpha = sm.symbols('alpha')\n",
    "delta = sm.symbols('delta')\n",
    "s = sm.symbols('s')\n",
    "n = sm.symbols('n')\n",
    "B = sm.symbols('B')\n",
    "k = sm.symbols('k')\n",
    "w = sm.symbols('w')\n",
    "r = sm.symbols('r')\n",
    "ss = sm.Eq(v,(s*w/(1+n))+((1-delta+s*r)/(1+n))*v)"
   ]
  },
  {
   "cell_type": "code",
   "execution_count": 15,
   "metadata": {},
   "outputs": [
    {
     "data": {
      "text/latex": [
       "$\\displaystyle \\frac{s w}{\\delta + n - r s}$"
      ],
      "text/plain": [
       "s*w/(delta + n - r*s)"
      ]
     },
     "execution_count": 15,
     "metadata": {},
     "output_type": "execute_result"
    }
   ],
   "source": [
    "vss = sm.solve(ss,v)[0]\n",
    "vss"
   ]
  },
  {
   "cell_type": "code",
   "execution_count": 16,
   "metadata": {},
   "outputs": [],
   "source": [
    "ssopen_func = sm.lambdify((s,B,n,r,k,w,alpha,delta),vss)"
   ]
  },
  {
   "cell_type": "code",
   "execution_count": 38,
   "metadata": {},
   "outputs": [],
   "source": [
    "s = 0.2\n",
    "B = 1\n",
    "n = 0.01\n",
    "k= 2\n",
    "alpha = 1/3\n",
    "delta = 0.1\n",
    "w = (1-alpha)*B*k**alpha\n",
    "r = alpha*B*k**(alpha-1)"
   ]
  },
  {
   "cell_type": "code",
   "execution_count": 36,
   "metadata": {},
   "outputs": [],
   "source": [
    "from scipy import optimize\n",
    "\n",
    "def solve_for_ssopen(s,B,n,k, alpha,delta):\n",
    "    \"\"\" solve for the steady state level of capital\n",
    "\n",
    "    Args:\n",
    "        s (float): saving rate\n",
    "        n (float): population growth rate\n",
    "        alpha (float): cobb-douglas parameter\n",
    "        delta (float): capital depreciation rate \n",
    "\n",
    "    Returns:\n",
    "        result (RootResults): the solution represented as a RootResults object\n",
    "\n",
    "    \"\"\" \n",
    "    \n",
    "    # a. define objective function\n",
    "    obj_vss = lambda vss: vss - ((s*w/(1+n))+((1-delta+s*r)/(1+n))*vss)\n",
    "\n",
    "    #. b. call root finder\n",
    "    result = optimize.root_scalar(obj_vss,bracket=[0.1,100],method='bisect')\n",
    "    \n",
    "    return result"
   ]
  },
  {
   "cell_type": "code",
   "execution_count": 39,
   "metadata": {},
   "outputs": [
    {
     "name": "stdout",
     "output_type": "stream",
     "text": [
      " numerical solution is: 2.470\n",
      "analytical solution is: 2.470\n"
     ]
    }
   ],
   "source": [
    "solution = solve_for_ssopen(s,B,n,k,alpha,delta)\n",
    "print(f' numerical solution is: {solution.root:.3f}')\n",
    "print(f'analytical solution is: {ssopen_func(s,B,n,r,k,w,alpha,delta):.3f}')"
   ]
  },
  {
   "cell_type": "code",
   "execution_count": null,
   "metadata": {},
   "outputs": [],
   "source": []
  },
  {
   "cell_type": "code",
   "execution_count": null,
   "metadata": {},
   "outputs": [],
   "source": []
  },
  {
   "cell_type": "code",
   "execution_count": null,
   "metadata": {},
   "outputs": [],
   "source": []
  }
 ],
 "metadata": {
  "kernelspec": {
   "display_name": "Python 3",
   "language": "python",
   "name": "python3"
  },
  "language_info": {
   "codemirror_mode": {
    "name": "ipython",
    "version": 3
   },
   "file_extension": ".py",
   "mimetype": "text/x-python",
   "name": "python",
   "nbconvert_exporter": "python",
   "pygments_lexer": "ipython3",
   "version": "3.8.5"
  }
 },
 "nbformat": 4,
 "nbformat_minor": 4
}
